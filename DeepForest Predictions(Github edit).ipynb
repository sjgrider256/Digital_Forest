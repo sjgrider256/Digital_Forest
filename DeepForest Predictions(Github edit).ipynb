{
 "cells": [
  {
   "cell_type": "code",
   "execution_count": null,
   "id": "66a4522c-5d9e-4da0-b396-eab982eb0fd0",
   "metadata": {},
   "outputs": [],
   "source": [
    "#Section 1: load and preprocess raster (remove 4th band if present)"
   ]
  },
  {
   "cell_type": "code",
   "execution_count": 2,
   "id": "cbbef284-e464-4880-87d9-6f4d713d1a4a",
   "metadata": {},
   "outputs": [
    {
     "name": "stdout",
     "output_type": "stream",
     "text": [
      "📌 Original raster has 4 bands. Expected: 3\n",
      "📌 Removing extra bands...\n",
      "✅ Fixed raster saved at: C:\\Remote Sensing\\Remote Sensing Projects\\Fiery Gizzard Trail\\Raster Layers\\Fixed-Fiery-Gizzard-Trail-5-10-2025-orthophoto.tif\n",
      "✅ Image Shape: (3, 20293, 29387)\n"
     ]
    }
   ],
   "source": [
    "import rasterio\n",
    "import numpy as np\n",
    "\n",
    "# Define the correct raster path\n",
    "raster_path = [insert source file path]\n",
    "fixed_raster_path = [insert source file path]\n",
    "# Open the raster and check the number of bands\n",
    "with rasterio.open(raster_path) as src:\n",
    "    print(f\" Original raster has {src.count} bands. Expected: 3\")\n",
    "\n",
    "    if src.count > 3:\n",
    "        print(f\" Removing extra bands...\")\n",
    "\n",
    "        # Read only the first 3 bands (Red, Green, Blue)\n",
    "        data = src.read([1, 2, 3])  # Shape: (3, Height, Width)\n",
    "\n",
    "        # Update profile for 3-band output\n",
    "        profile = src.profile\n",
    "        profile.update(count=3, dtype=data.dtype)\n",
    "\n",
    "        # Save the new raster\n",
    "        with rasterio.open(fixed_raster_path, \"w\", **profile) as dst:\n",
    "            dst.write(data)\n",
    "\n",
    "        print(f\" Fixed raster saved at: {fixed_raster_path}\")\n",
    "        print(f\" Image Shape: {data.shape}\")  # Should be (3, Height, Width)\n",
    "    else:\n",
    "        print(\"Raster already has 3 bands. No changes needed.\")\n"
   ]
  },
  {
   "cell_type": "code",
   "execution_count": null,
   "id": "44d5c301-7b41-4cf5-a1d0-00b766147e1f",
   "metadata": {},
   "outputs": [],
   "source": [
    "#Downsample orthmosaic to 10cm/pixel for Deepforest predicitons"
   ]
  },
  {
   "cell_type": "code",
   "execution_count": 5,
   "id": "6c24348e-6555-4ab1-83e2-912658dbe932",
   "metadata": {},
   "outputs": [
    {
     "name": "stdout",
     "output_type": "stream",
     "text": [
      "✅ Downsampled raster saved to: downsampled.tif\n"
     ]
    }
   ],
   "source": [
    "import os\n",
    "import rasterio\n",
    "from rasterio.enums import Resampling\n",
    "\n",
    "with rasterio.open(fixed_raster_path) as src:\n",
    "    scale_factor = 10 / [insert calculated GSD from orthomosaic**]\n",
    "    new_width = int(src.width / scale_factor)\n",
    "    new_height = int(src.height / scale_factor)\n",
    "\n",
    "    data = src.read(\n",
    "        out_shape=(src.count, new_height, new_width),\n",
    "        resampling=Resampling.bilinear\n",
    "    )\n",
    "\n",
    "    new_transform = src.transform * src.transform.scale(\n",
    "        src.width / new_width,\n",
    "        src.height / new_height\n",
    "    )\n",
    "\n",
    "    profile = src.profile\n",
    "    profile.update({\n",
    "        'height': new_height,\n",
    "        'width': new_width,\n",
    "        'transform': new_transform\n",
    "    })\n",
    "    \n",
    "    with rasterio.open(\"downsampled.tif\", \"w\", **profile) as dst:\n",
    "        dst.write(data)\n",
    "\n",
    "print(\"Downsampled raster saved to: downsampled.tif\")\n",
    "downsampled_path = \"downsampled.tif\"\n",
    "\n"
   ]
  },
  {
   "cell_type": "code",
   "execution_count": null,
   "id": "84ac0a1d-366a-48d1-8cde-a214c5196cde",
   "metadata": {},
   "outputs": [],
   "source": [
    "#Section 2: predict tree location using predict_tile()."
   ]
  },
  {
   "cell_type": "code",
   "execution_count": 30,
   "id": "7b6ecbfd-1ed3-447b-9ee6-7e7f2e7b72b3",
   "metadata": {},
   "outputs": [
    {
     "name": "stdout",
     "output_type": "stream",
     "text": [
      "Reading config file: C:\\Users\\StephenG\\AppData\\Roaming\\Python\\Python312\\site-packages\\deepforest\\data\\deepforest_config.yml\n"
     ]
    },
    {
     "name": "stderr",
     "output_type": "stream",
     "text": [
      "GPU available: False, used: False\n",
      "TPU available: False, using: 0 TPU cores\n",
      "HPU available: False, using: 0 HPUs\n"
     ]
    },
    {
     "name": "stdout",
     "output_type": "stream",
     "text": [
      "Reading config file: C:\\Users\\StephenG\\AppData\\Roaming\\Python\\Python312\\site-packages\\deepforest\\data\\deepforest_config.yml\n"
     ]
    },
    {
     "name": "stderr",
     "output_type": "stream",
     "text": [
      "GPU available: False, used: False\n",
      "TPU available: False, using: 0 TPU cores\n",
      "HPU available: False, using: 0 HPUs\n"
     ]
    },
    {
     "data": {
      "application/vnd.jupyter.widget-view+json": {
       "model_id": "89a5ea2f813f44c0bcf28de058133392",
       "version_major": 2,
       "version_minor": 0
      },
      "text/plain": [
       "Predicting: |                                                                                    | 0/? [00:00<…"
      ]
     },
     "metadata": {},
     "output_type": "display_data"
    },
    {
     "name": "stdout",
     "output_type": "stream",
     "text": [
      "16825 predictions in overlapping windows, applying non-max supression\n",
      "7872 predictions kept after non-max suppression\n",
      "\n",
      "📌 Predictions Before Conversion:\n",
      "     xmin    ymin    xmax    ymax label     score       image_path  \\\n",
      "0  5262.0  1829.0  5335.0  1901.0  Tree  0.873955  downsampled.tif   \n",
      "1  1073.0  2412.0  1146.0  2480.0  Tree  0.862264  downsampled.tif   \n",
      "2  4695.0  1116.0  4747.0  1171.0  Tree  0.862049  downsampled.tif   \n",
      "3  3905.0   454.0  3964.0   517.0  Tree  0.859805  downsampled.tif   \n",
      "4  3405.0  1635.0  3469.0  1700.0  Tree  0.847503  downsampled.tif   \n",
      "\n",
      "                                            geometry  \n",
      "0  POLYGON ((5335 1829, 5335 1901, 5262 1901, 526...  \n",
      "1  POLYGON ((1146 2412, 1146 2480, 1073 2480, 107...  \n",
      "2  POLYGON ((4747 1116, 4747 1171, 4695 1171, 469...  \n",
      "3  POLYGON ((3964 454, 3964 517, 3905 517, 3905 4...  \n",
      "4  POLYGON ((3469 1635, 3469 1700, 3405 1700, 340...  \n"
     ]
    }
   ],
   "source": [
    "from deepforest import main\n",
    "\n",
    "# Initialize DeepForest\n",
    "model = main.deepforest()\n",
    "model.load_model(model_name=\"weecology/deepforest-tree\", revision=\"main\")\n",
    "\n",
    "# Predict on the downsampled image\n",
    "predicted_results = model.predict_tile(\n",
    "    downsampled_path, \n",
    "    patch_size=400, \n",
    "    patch_overlap= 0.35\n",
    ")\n",
    "\n",
    "# Print results\n",
    "print(\"\\n Predictions Before Conversion:\")\n",
    "print(predicted_results.head())\n"
   ]
  },
  {
   "cell_type": "code",
   "execution_count": 31,
   "id": "284f9e84-4af4-49a2-899a-92159bf20c54",
   "metadata": {},
   "outputs": [
    {
     "name": "stdout",
     "output_type": "stream",
     "text": [
      "\n",
      "✅ Predictions saved to: Output.csv\n"
     ]
    }
   ],
   "source": [
    "# Save to working directory\n",
    "predicted_results.to_csv(\"Output.csv\", index=False)\n",
    "print(\"\\n Predictions saved to: Output.csv\")\n"
   ]
  },
  {
   "cell_type": "code",
   "execution_count": null,
   "id": "58facaa2-1713-47cd-9a46-2bd3933b512f",
   "metadata": {},
   "outputs": [],
   "source": [
    "#Convert x & y min and max coordinates to geographical coordinatees"
   ]
  },
  {
   "cell_type": "code",
   "execution_count": 32,
   "id": "05ee2596-f30d-4059-8f62-da8afcc697c5",
   "metadata": {},
   "outputs": [
    {
     "name": "stdout",
     "output_type": "stream",
     "text": [
      "\n",
      "📌 Reading Predictions CSV...\n",
      "\n",
      "📌 Converting to Geographic Coordinates...\n",
      "\n",
      "✅ Sample Converted Predictions:\n",
      "     xmin    ymin    xmax    ymax label     score       image_path  \\\n",
      "0  5262.0  1829.0  5335.0  1901.0  Tree  0.873955  downsampled.tif   \n",
      "1  1073.0  2412.0  1146.0  2480.0  Tree  0.862264  downsampled.tif   \n",
      "2  4695.0  1116.0  4747.0  1171.0  Tree  0.862049  downsampled.tif   \n",
      "3  3905.0   454.0  3964.0   517.0  Tree  0.859805  downsampled.tif   \n",
      "4  3405.0  1635.0  3469.0  1700.0  Tree  0.847503  downsampled.tif   \n",
      "\n",
      "                                            geometry  \n",
      "0  POLYGON ((614032.481 3901573.798, 614032.481 3...  \n",
      "1  POLYGON ((613651.612 3901520.788, 613651.612 3...  \n",
      "2  POLYGON ((613979.02 3901638.629, 613979.02 390...  \n",
      "3  POLYGON ((613907.828 3901698.822, 613907.828 3...  \n",
      "4  POLYGON ((613862.822 3901591.438, 613862.822 3...  \n"
     ]
    }
   ],
   "source": [
    "from deepforest import utilities\n",
    "import os\n",
    "\n",
    "# Define local predictions CSV and raster file in current directory\n",
    "predictions_path = os.path.abspath(\"Output.csv\")             # Assumes Output.csv is in working directory\n",
    "raster_path = os.path.abspath(\"downsampled.tif\")             # Local downsampled raster\n",
    "\n",
    "# Read Predictions\n",
    "print(\"\\n Reading Predictions CSV...\")\n",
    "df = utilities.read_file(predictions_path)\n",
    "\n",
    "# Convert to Geographic Coordinates\n",
    "print(\"\\n Converting to Geographic Coordinates...\")\n",
    "geo_df = utilities.image_to_geo_coordinates(df, root_dir=os.getcwd())\n",
    "\n",
    "# Print sample to verify conversion\n",
    "print(\"\\n Sample Converted Predictions:\")\n",
    "print(geo_df.head())\n",
    "\n"
   ]
  },
  {
   "cell_type": "code",
   "execution_count": null,
   "id": "cdfa6277-cb8e-4271-902f-8eae1e95ce1e",
   "metadata": {},
   "outputs": [],
   "source": [
    "#Convert predictions to shapefile"
   ]
  },
  {
   "cell_type": "code",
   "execution_count": 33,
   "id": "eb4f1119-f6ab-4f0d-8bb6-2981133ec4d9",
   "metadata": {},
   "outputs": [
    {
     "name": "stdout",
     "output_type": "stream",
     "text": [
      "\n",
      "✅ Predictions saved as a shapefile: C:\\Remote Sensing\\Remote Sensing Projects\\Fiery Gizzard Trail\\Deepforest Predictions\\Shapefiles\\10cm_400patch_0.35overlap.shp\n"
     ]
    }
   ],
   "source": [
    "import geopandas as gpd\n",
    "\n",
    "# Define output path\n",
    "shapefile_output_path = [insert destination file path]\n",
    "\n",
    "# Save the converted geographic predictions\n",
    "geo_df.to_file(shapefile_output_path)\n",
    "\n",
    "print(f\"\\n Predictions saved as a shapefile: {shapefile_output_path}\")"
   ]
  },
  {
   "cell_type": "code",
   "execution_count": null,
   "id": "bcbdedf2-3a0d-40b0-af78-84f952bd0ac5",
   "metadata": {},
   "outputs": [],
   "source": []
  }
 ],
 "metadata": {
  "kernelspec": {
   "display_name": "Python 3 (ipykernel)",
   "language": "python",
   "name": "python3"
  },
  "language_info": {
   "codemirror_mode": {
    "name": "ipython",
    "version": 3
   },
   "file_extension": ".py",
   "mimetype": "text/x-python",
   "name": "python",
   "nbconvert_exporter": "python",
   "pygments_lexer": "ipython3",
   "version": "3.12.4"
  }
 },
 "nbformat": 4,
 "nbformat_minor": 5
}
