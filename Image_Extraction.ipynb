{
 "cells": [
  {
   "cell_type": "code",
   "execution_count": null,
   "id": "a1754402-805c-43ff-b71a-16c625b01b4b",
   "metadata": {},
   "outputs": [],
   "source": [
    "#Load DeepForest Prediction Shapefiles (Hemlock & Not Hemlock) and create UTM coordinate CSV"
   ]
  },
  {
   "cell_type": "code",
   "execution_count": 9,
   "id": "9728b7dc-cc42-4f96-9222-95741d8ffbb5",
   "metadata": {},
   "outputs": [
    {
     "name": "stdout",
     "output_type": "stream",
     "text": [
      "✅ Hemlock CSV saved with corrected geographic coordinates at: C:\\Remote Sensing\\Remote Sensing Projects\\Fiery Gizzard Trail\\Image Extraction\\CSVs\\Hemlocks from DeepForest\\UTM Coordinates.csv\n",
      "✅ Other Trees CSV saved with corrected geographic coordinates at: C:\\Remote Sensing\\Remote Sensing Projects\\Fiery Gizzard Trail\\Image Extraction\\CSVs\\Not Hemlocks from DeepForest\\UTM Coordinates.csv\n"
     ]
    }
   ],
   "source": [
    "import os\n",
    "import geopandas as gpd\n",
    "\n",
    "# Load the shapefile\n",
    "hemlock_shp_path = r\"C:\\Remote Sensing\\Remote Sensing Projects\\Fiery Gizzard Trail\\Image Extraction\\QGIS Shapefiles\\Hemlocks from DeepForest Predictions.shp\"\n",
    "hemlock_gdf = gpd.read_file(hemlock_shp_path)\n",
    "\n",
    "other_trees_shp_path = r\"C:\\Remote Sensing\\Remote Sensing Projects\\Fiery Gizzard Trail\\Image Extraction\\QGIS Shapefiles\\Not Hemlocks from DeepForest Predicitons.shp\"\n",
    "other_trees_gdf = gpd.read_file(other_trees_shp_path)\n",
    "\n",
    "# Extract geographic bounding boxes from the geometry\n",
    "hemlock_gdf[\"xmin\"] = hemlock_gdf.geometry.bounds.minx\n",
    "hemlock_gdf[\"xmax\"] = hemlock_gdf.geometry.bounds.maxx\n",
    "hemlock_gdf[\"ymin\"] = hemlock_gdf.geometry.bounds.miny\n",
    "hemlock_gdf[\"ymax\"] = hemlock_gdf.geometry.bounds.maxy\n",
    "\n",
    "# Extract geographic bounding boxes from the geometry\n",
    "other_trees_gdf[\"xmin\"] = other_trees_gdf.geometry.bounds.minx\n",
    "other_trees_gdf[\"xmax\"] = other_trees_gdf.geometry.bounds.maxx\n",
    "other_trees_gdf[\"ymin\"] = other_trees_gdf.geometry.bounds.miny\n",
    "other_trees_gdf[\"ymax\"] = other_trees_gdf.geometry.bounds.maxy\n",
    "\n",
    "# Optional: Keep only relevant columns\n",
    "other_trees_gdf = other_trees_gdf[[\"xmin\", \"ymin\", \"xmax\", \"ymax\", \"image_path\"]]\n",
    "\n",
    "\n",
    "# Optional: Keep only relevant columns\n",
    "hemlock_gdf = hemlock_gdf[[\"xmin\", \"ymin\", \"xmax\", \"ymax\", \"image_path\"]]\n",
    "\n",
    "# Save to CSV\n",
    "hemlock_csv_path = r\"C:\\Remote Sensing\\Remote Sensing Projects\\Fiery Gizzard Trail\\Image Extraction\\CSVs\\Hemlocks from DeepForest\\UTM Coordinates.csv\"\n",
    "other_trees_csv_path = r\"C:\\Remote Sensing\\Remote Sensing Projects\\Fiery Gizzard Trail\\Image Extraction\\CSVs\\Not Hemlocks from DeepForest\\UTM Coordinates.csv\"\n",
    "\n",
    "hemlock_gdf.to_csv(hemlock_csv_path, index=False)\n",
    "other_trees_gdf.to_csv(other_trees_csv_path, index=False)\n",
    "\n",
    "\n",
    "print(f\"✅ Hemlock CSV saved with corrected geographic coordinates at: {hemlock_csv_path}\")\n",
    "print(f\"✅ Other Trees CSV saved with corrected geographic coordinates at: {other_trees_csv_path}\")\n"
   ]
  },
  {
   "cell_type": "code",
   "execution_count": null,
   "id": "6d0d76b8-d51f-4004-919b-30811a5b07e8",
   "metadata": {},
   "outputs": [],
   "source": [
    "#Hemlock from deepforest prediction: convert UTM TO PIXEL COORDINATES"
   ]
  },
  {
   "cell_type": "code",
   "execution_count": 10,
   "id": "df0a1e34-8b38-48dd-a108-445cba0e9809",
   "metadata": {},
   "outputs": [
    {
     "name": "stdout",
     "output_type": "stream",
     "text": [
      "✅ Pixel coordinates (with label column) saved to: C:\\Remote Sensing\\Remote Sensing Projects\\Fiery Gizzard Trail\\Image Extraction\\CSVs\\Hemlocks from DeepForest\\Pixel Coordinates.csv\n"
     ]
    }
   ],
   "source": [
    "import rasterio\n",
    "import pandas as pd\n",
    "from rasterio.transform import Affine\n",
    "\n",
    "# --- Set file paths ---\n",
    "raster_path = r\"C:\\Remote Sensing\\Remote Sensing Projects\\Fiery Gizzard Trail\\Raster Layers\\Fixed-Fiery-Gizzard-Trail-5-10-2025-orthophoto.tif\"\n",
    "output_csv_path = r\"C:\\Remote Sensing\\Remote Sensing Projects\\Fiery Gizzard Trail\\Image Extraction\\CSVs\\Hemlocks from DeepForest\\Pixel Coordinates.csv\"\n",
    "\n",
    "# --- Load raster to get affine transform ---\n",
    "with rasterio.open(raster_path) as dataset:\n",
    "    raster_crs = dataset.crs\n",
    "    transform_matrix = dataset.transform\n",
    "\n",
    "# --- Load CSV file with UTM bounding boxes ---\n",
    "df = pd.read_csv(hemlock_csv_path)\n",
    "gdf = df.copy()\n",
    "\n",
    "# --- Drop rows with missing UTM coords ---\n",
    "gdf = gdf.dropna(subset=[\"xmin\", \"xmax\", \"ymin\", \"ymax\"])\n",
    "\n",
    "# --- Define transformation function ---\n",
    "def utm_to_pixel(x_utm, y_utm, transform_matrix):\n",
    "    col, row = ~transform_matrix * (x_utm, y_utm)\n",
    "    return int(col), int(row)\n",
    "\n",
    "# --- Apply coordinate conversion ---\n",
    "gdf[\"xmin_px\"], gdf[\"ymin_px\"] = zip(*gdf.apply(lambda row: utm_to_pixel(row[\"xmin\"], row[\"ymax\"], transform_matrix), axis=1))\n",
    "gdf[\"xmax_px\"], gdf[\"ymax_px\"] = zip(*gdf.apply(lambda row: utm_to_pixel(row[\"xmax\"], row[\"ymin\"], transform_matrix), axis=1))\n",
    "\n",
    "# --- Fill the image_path column ---\n",
    "raster_filename = \"Fixed-Fiery-Gizzard-Trail-5-10-2025-orthophoto.tif\"\n",
    "gdf[\"image_path\"] = raster_filename\n",
    "\n",
    "# --- Ensure the label column exists and is filled with 1 ---\n",
    "gdf[\"label\"] = 1\n",
    "\n",
    "# --- Save result ---\n",
    "gdf.to_csv(output_csv_path, index=False)\n",
    "\n",
    "print(f\"✅ Pixel coordinates (with label column) saved to: {output_csv_path}\")\n"
   ]
  },
  {
   "cell_type": "code",
   "execution_count": null,
   "id": "70f60f0c-d844-441a-9753-089d4e3cb661",
   "metadata": {},
   "outputs": [],
   "source": [
    "#Crop deepforest hemlocks from pixel coordinates using PIL"
   ]
  },
  {
   "cell_type": "code",
   "execution_count": 8,
   "id": "7d979d35-cd52-42ac-a41f-e2eba63122eb",
   "metadata": {},
   "outputs": [
    {
     "name": "stdout",
     "output_type": "stream",
     "text": [
      "✅ Crops and metadata saved in: C:\\Remote Sensing\\Remote Sensing Projects\\Fiery Gizzard Trail\\Image Extraction\\Image Datasets\\Hemlocks from DeepForest\n",
      "✅ Metadata saved at: C:\\Remote Sensing\\Remote Sensing Projects\\Fiery Gizzard Trail\\Image Extraction\\Image Datasets\\Hemlocks from DeepForest\\crop_metadata.csv\n"
     ]
    }
   ],
   "source": [
    "import os\n",
    "import pandas as pd\n",
    "import numpy as np\n",
    "import rasterio\n",
    "from PIL import Image\n",
    "\n",
    "# Inputs\n",
    "annotations_csv = r\"C:\\Remote Sensing\\Remote Sensing Projects\\Fiery Gizzard Trail\\Image Extraction\\CSVs\\Hemlocks from DeepForest\\Pixel Coordinates.csv\"\n",
    "output_dir = r\"C:\\Remote Sensing\\Remote Sensing Projects\\Fiery Gizzard Trail\\Image Extraction\\Image Datasets\\Hemlocks from DeepForest\"\n",
    "\n",
    "os.makedirs(output_dir, exist_ok=True)\n",
    "\n",
    "# Load the CSV\n",
    "df = pd.read_csv(annotations_csv)\n",
    "\n",
    "# Ensure labels are string\n",
    "df[\"label\"] = df[\"label\"].astype(str)\n",
    "\n",
    "# List to store metadata\n",
    "metadata = []\n",
    "source_name = \"DeepForest\"\n",
    "\n",
    "# Crop each box manually using rasterio and PIL\n",
    "with rasterio.open(raster_path) as src:\n",
    "    for i, row in df.iterrows():\n",
    "        xmin, ymin = int(row[\"xmin_px\"]), int(row[\"ymin_px\"])\n",
    "        xmax, ymax = int(row[\"xmax_px\"]), int(row[\"ymax_px\"])\n",
    "        label = row[\"label\"]\n",
    "\n",
    "        # Ensure subfolder exists\n",
    "        label_dir = os.path.join(output_dir, label)\n",
    "        os.makedirs(label_dir, exist_ok=True)\n",
    "\n",
    "        try:\n",
    "            # Crop window\n",
    "            window = rasterio.windows.Window.from_slices((ymin, ymax), (xmin, xmax))\n",
    "            crop = src.read(window=window)  # [bands, height, width]\n",
    "\n",
    "            if crop.shape[0] < 3:\n",
    "                print(f\"⚠️ Skipping {i}: Not enough bands.\")\n",
    "                continue\n",
    "\n",
    "            # Reformat bands\n",
    "            crop = np.transpose(crop[:3], (1, 2, 0))  # (rows, cols, bands)\n",
    "\n",
    "            # Clip safely, cast to uint8\n",
    "            crop = np.clip(crop, 0, 255).astype(np.uint8)\n",
    "\n",
    "            # Create filename\n",
    "            filename = f\"crop_{source_name}_{i:04d}_{label}.png\"\n",
    "            out_path = os.path.join(label_dir, filename)\n",
    "\n",
    "            # ✅ Save with PIL (RGB order preserved)\n",
    "            im = Image.fromarray(crop)\n",
    "            im.save(out_path)\n",
    "\n",
    "            # Save metadata\n",
    "            metadata.append({\n",
    "                \"filename\": filename,\n",
    "                \"xmin_px\": xmin,\n",
    "                \"ymin_px\": ymin,\n",
    "                \"xmax_px\": xmax,\n",
    "                \"ymax_px\": ymax,\n",
    "                \"label\": label,\n",
    "                \"source\": source_name\n",
    "            })\n",
    "\n",
    "        except Exception as e:\n",
    "            print(f\"❌ Crop failed at {i}: {e}\")\n",
    "\n",
    "# Save metadata\n",
    "metadata_df = pd.DataFrame(metadata)\n",
    "metadata_csv_path = os.path.join(output_dir, \"crop_metadata.csv\")\n",
    "metadata_df.to_csv(metadata_csv_path, index=False)\n",
    "\n",
    "print(f\"✅ Crops and metadata saved in: {output_dir}\")\n",
    "print(f\"✅ Metadata saved at: {metadata_csv_path}\")"
   ]
  },
  {
   "cell_type": "code",
   "execution_count": null,
   "id": "3c8116c1-041a-4501-8064-b160b3df4fca",
   "metadata": {},
   "outputs": [],
   "source": [
    "#Non hemlock from deepforest: convert UTM to Pixel Coordinates"
   ]
  },
  {
   "cell_type": "code",
   "execution_count": 11,
   "id": "1dfd6a2a-18c4-452d-89aa-fad65c4385f0",
   "metadata": {},
   "outputs": [
    {
     "name": "stdout",
     "output_type": "stream",
     "text": [
      "✅ Pixel coordinates (with label column) saved to: C:\\Remote Sensing\\Remote Sensing Projects\\Fiery Gizzard Trail\\Image Extraction\\CSVs\\Not Hemlocks from DeepForest\\Pixel Coordinates.csv\n"
     ]
    }
   ],
   "source": [
    "\n",
    "# Paths\n",
    "output_csv_path = r\"C:\\Remote Sensing\\Remote Sensing Projects\\Fiery Gizzard Trail\\Image Extraction\\CSVs\\Not Hemlocks from DeepForest\\Pixel Coordinates.csv\"\n",
    "\n",
    "# --- Load raster to get affine transform ---\n",
    "with rasterio.open(raster_path) as dataset:\n",
    "    raster_crs = dataset.crs\n",
    "    transform_matrix = dataset.transform\n",
    "\n",
    "# --- Load CSV file with UTM bounding boxes ---\n",
    "df = pd.read_csv(other_trees_csv_path)\n",
    "gdf = df.copy()\n",
    "\n",
    "# --- Drop rows with missing UTM coords ---\n",
    "gdf = gdf.dropna(subset=[\"xmin\", \"xmax\", \"ymin\", \"ymax\"])\n",
    "\n",
    "# --- Define transformation function ---\n",
    "def utm_to_pixel(x_utm, y_utm, transform_matrix):\n",
    "    col, row = ~transform_matrix * (x_utm, y_utm)\n",
    "    return int(col), int(row)\n",
    "\n",
    "# --- Apply coordinate conversion ---\n",
    "gdf[\"xmin_px\"], gdf[\"ymin_px\"] = zip(*gdf.apply(lambda row: utm_to_pixel(row[\"xmin\"], row[\"ymax\"], transform_matrix), axis=1))\n",
    "gdf[\"xmax_px\"], gdf[\"ymax_px\"] = zip(*gdf.apply(lambda row: utm_to_pixel(row[\"xmax\"], row[\"ymin\"], transform_matrix), axis=1))\n",
    "\n",
    "# --- Fill the image_path column ---\n",
    "raster_filename = \"Fixed-Fiery-Gizzard-Trail-5-10-2025-orthophoto.tif\"\n",
    "gdf[\"image_path\"] = raster_filename\n",
    "\n",
    "# --- Ensure the label column exists and is filled with 1 ---\n",
    "gdf[\"label\"] = 0\n",
    "\n",
    "# --- Save result ---\n",
    "gdf.to_csv(output_csv_path, index=False)\n",
    "\n",
    "print(f\"✅ Pixel coordinates (with label column) saved to: {output_csv_path}\")\n"
   ]
  },
  {
   "cell_type": "code",
   "execution_count": null,
   "id": "464be96a-a284-4991-9689-bf2036ebaac2",
   "metadata": {},
   "outputs": [],
   "source": [
    "#crop non hemlock images using custom function from pixel coordinates using PIL"
   ]
  },
  {
   "cell_type": "code",
   "execution_count": 31,
   "id": "349672ca-071e-43d7-8242-c329e701ff0b",
   "metadata": {},
   "outputs": [
    {
     "name": "stdout",
     "output_type": "stream",
     "text": [
      "✅ Crops and metadata saved in: C:\\Remote Sensing\\Remote Sensing Projects\\Fiery Gizzard Trail\\Image Extraction\\Image Datasets\\Not Hemlocks from DeepForest\n",
      "✅ Metadata saved at: C:\\Remote Sensing\\Remote Sensing Projects\\Fiery Gizzard Trail\\Image Extraction\\Image Datasets\\Not Hemlocks from DeepForest\\crop_metadata.csv\n"
     ]
    }
   ],
   "source": [
    "\n",
    "# Inputs\n",
    "annotations_csv = r\"C:\\Remote Sensing\\Remote Sensing Projects\\Fiery Gizzard Trail\\Image Extraction\\CSVs\\Not Hemlocks from DeepForest\\Pixel Coordinates.csv\"\n",
    "output_dir = r\"C:\\Remote Sensing\\Remote Sensing Projects\\Fiery Gizzard Trail\\Image Extraction\\Image Datasets\\Not Hemlocks from DeepForest\"\n",
    "\n",
    "os.makedirs(output_dir, exist_ok=True)\n",
    "\n",
    "# Load the CSV\n",
    "df = pd.read_csv(annotations_csv)\n",
    "\n",
    "# Ensure labels are string\n",
    "df[\"label\"] = df[\"label\"].astype(str)\n",
    "\n",
    "# List to store metadata\n",
    "metadata = []\n",
    "source_name = \"DeepForest\"\n",
    "\n",
    "# Crop each box manually using rasterio and PIL\n",
    "with rasterio.open(raster_path) as src:\n",
    "    for i, row in df.iterrows():\n",
    "        xmin, ymin = int(row[\"xmin_px\"]), int(row[\"ymin_px\"])\n",
    "        xmax, ymax = int(row[\"xmax_px\"]), int(row[\"ymax_px\"])\n",
    "        label = row[\"label\"]\n",
    "\n",
    "        # Ensure subfolder exists\n",
    "        label_dir = os.path.join(output_dir, label)\n",
    "        os.makedirs(label_dir, exist_ok=True)\n",
    "\n",
    "        try:\n",
    "            # Crop window\n",
    "            window = rasterio.windows.Window.from_slices((ymin, ymax), (xmin, xmax))\n",
    "            crop = src.read(window=window)  # [bands, height, width]\n",
    "\n",
    "            if crop.shape[0] < 3:\n",
    "                print(f\"⚠️ Skipping {i}: Not enough bands.\")\n",
    "                continue\n",
    "\n",
    "            # Reformat bands\n",
    "            crop = np.transpose(crop[:3], (1, 2, 0))  # (rows, cols, bands)\n",
    "\n",
    "            # Clip safely, cast to uint8\n",
    "            crop = np.clip(crop, 0, 255).astype(np.uint8)\n",
    "\n",
    "            # Create filename\n",
    "            filename = f\"crop_{source_name}_{i:04d}_{label}.png\"\n",
    "            out_path = os.path.join(label_dir, filename)\n",
    "\n",
    "            # ✅ Save with PIL (RGB order preserved)\n",
    "            im = Image.fromarray(crop)\n",
    "            im.save(out_path)\n",
    "\n",
    "            # Save metadata\n",
    "            metadata.append({\n",
    "                \"filename\": filename,\n",
    "                \"xmin_px\": xmin,\n",
    "                \"ymin_px\": ymin,\n",
    "                \"xmax_px\": xmax,\n",
    "                \"ymax_px\": ymax,\n",
    "                \"label\": label,\n",
    "                \"source\": source_name\n",
    "            })\n",
    "\n",
    "        except Exception as e:\n",
    "            print(f\"❌ Crop failed at {i}: {e}\")\n",
    "\n",
    "# Save metadata\n",
    "metadata_df = pd.DataFrame(metadata)\n",
    "metadata_csv_path = os.path.join(output_dir, \"crop_metadata.csv\")\n",
    "metadata_df.to_csv(metadata_csv_path, index=False)\n",
    "\n",
    "print(f\"✅ Crops and metadata saved in: {output_dir}\")\n",
    "print(f\"✅ Metadata saved at: {metadata_csv_path}\")\n",
    "\n"
   ]
  },
  {
   "cell_type": "code",
   "execution_count": null,
   "id": "c9a88b77-cb73-429c-8374-c74a88696016",
   "metadata": {},
   "outputs": [],
   "source": [
    "#custom haemlock annotations "
   ]
  },
  {
   "cell_type": "code",
   "execution_count": null,
   "id": "1ec2fffe-914a-41af-a719-1d5dbaf08a83",
   "metadata": {},
   "outputs": [],
   "source": [
    "#shapefile to csv with geographical coordinates(UTM) using deepforest shapefile_to_annotations function"
   ]
  },
  {
   "cell_type": "code",
   "execution_count": 17,
   "id": "c92e25b1-f5cd-4a2c-9164-9cffa5a61095",
   "metadata": {},
   "outputs": [
    {
     "name": "stdout",
     "output_type": "stream",
     "text": [
      "Geometry type of shapefile is Polygon\n",
      "CRS of shapefile is EPSG:32616\n",
      "✅ DataFrames saved successfully.\n"
     ]
    }
   ],
   "source": [
    "from deepforest.utilities import shapefile_to_annotations\n",
    "\n",
    "# Define your shapefile paths\n",
    "hemlock_shp_path = r\"C:\\Remote Sensing\\Remote Sensing Projects\\Fiery Gizzard Trail\\Image Extraction\\QGIS Shapefiles\\Hemlocks Custom Annotations (QGIS ).shp\"\n",
    "\n",
    "# Convert to annotations (bounding boxes)\n",
    "hemlock_df = shapefile_to_annotations(\n",
    "    shapefile=hemlock_shp_path,\n",
    "    rgb= raster_path\n",
    ",\n",
    "    buffer_size=0.15\n",
    ")\n",
    "\n",
    "# Save as CSV\n",
    "hemlock_df.to_csv(r\"C:\\Remote Sensing\\Remote Sensing Projects\\Fiery Gizzard Trail\\Image Extraction\\CSVs\\Hemlocks from QGIS Annotations\\UTM Coordinates.csv\", index=False)\n",
    "\n",
    "print(\"✅ DataFrames saved successfully.\")\n",
    "\n"
   ]
  },
  {
   "cell_type": "code",
   "execution_count": null,
   "id": "e522699b-571b-4e9d-a9e5-8351eada581f",
   "metadata": {},
   "outputs": [],
   "source": [
    "#convert UTM coordinates to pixel coordinates"
   ]
  },
  {
   "cell_type": "code",
   "execution_count": 19,
   "id": "4cdbb9df-8e4f-476d-a0d8-854b0f5159ce",
   "metadata": {},
   "outputs": [
    {
     "name": "stdout",
     "output_type": "stream",
     "text": [
      "Conversion complete! Bounding boxes are now in pixel coordinates and saved to C:\\Remote Sensing\\Remote Sensing Projects\\Fiery Gizzard Trail\\Image Extraction\\CSVs\\Hemlocks from QGIS Annotations\\Pixel Coordinates.csv\n"
     ]
    }
   ],
   "source": [
    "from rasterio.transform import Affine\n",
    "from shapely import wkt\n",
    "\n",
    "# Load the raster to check CRS\n",
    "with rasterio.open(raster_path) as dataset:\n",
    "    raster_crs = dataset.crs  # Get raster CRS\n",
    "    transform_matrix = dataset.transform  # Affine transformation for pixel conversion\n",
    "\n",
    "# Load the CSV dataset \n",
    "df = pd.read_csv(r\"C:\\Remote Sensing\\Remote Sensing Projects\\Fiery Gizzard Trail\\Image Extraction\\CSVs\\Hemlocks from QGIS Annotations\\UTM Coordinates.csv\")\n",
    "\n",
    "# Convert 'geometry' column from WKT string to shapely objects\n",
    "df[\"geometry\"] = df[\"geometry\"].apply(wkt.loads)\n",
    "\n",
    "# Convert to GeoDataFrame using parsed geometry\n",
    "gdf = gpd.GeoDataFrame(df, geometry=\"geometry\", crs=\"EPSG:32616\")\n",
    "\n",
    "# Extract bounding box coordinates from geometry\n",
    "gdf[\"xmin\"] = gdf.geometry.bounds[\"minx\"]\n",
    "gdf[\"ymin\"] = gdf.geometry.bounds[\"miny\"]\n",
    "gdf[\"xmax\"] = gdf.geometry.bounds[\"maxx\"]\n",
    "gdf[\"ymax\"] = gdf.geometry.bounds[\"maxy\"]\n",
    "\n",
    "# Ensure CRS matches the raster CRS, reproject if necessary\n",
    "if gdf.crs != raster_crs:\n",
    "    print(f\"Reprojecting from {gdf.crs} to {raster_crs}\")\n",
    "    gdf = gdf.to_crs(raster_crs)\n",
    "\n",
    "# Drop rows with any missing bounding box values\n",
    "gdf = gdf.dropna(subset=[\"xmin\", \"xmax\", \"ymin\", \"ymax\"])\n",
    "\n",
    "# Function to convert UTM to Pixel Coordinates\n",
    "def utm_to_pixel(x_utm, y_utm, transform_matrix):\n",
    "    \"\"\"Convert UTM coordinates to pixel coordinates using raster transformation.\"\"\"\n",
    "    col, row = ~transform_matrix * (x_utm, y_utm)\n",
    "    return int(col), int(row)\n",
    "\n",
    "# Apply transformation to all bounding boxes\n",
    "gdf[\"xmin_px\"], gdf[\"ymin_px\"] = zip(*gdf.apply(lambda row: utm_to_pixel(row[\"xmin\"], row[\"ymax\"], transform_matrix), axis=1))\n",
    "gdf[\"xmax_px\"], gdf[\"ymax_px\"] = zip(*gdf.apply(lambda row: utm_to_pixel(row[\"xmax\"], row[\"ymin\"], transform_matrix), axis=1))\n",
    "\n",
    "# Save updated dataset with pixel coordinates\n",
    "output_csv_path = r\"C:\\Remote Sensing\\Remote Sensing Projects\\Fiery Gizzard Trail\\Image Extraction\\CSVs\\Hemlocks from QGIS Annotations\\Pixel Coordinates.csv\"\n",
    "gdf.to_csv(output_csv_path, index=False)\n",
    "\n",
    "print(f\"Conversion complete! Bounding boxes are now in pixel coordinates and saved to {output_csv_path}\")\n"
   ]
  },
  {
   "cell_type": "code",
   "execution_count": null,
   "id": "e55cc5a0-5290-41a1-8579-f055c8c49dc3",
   "metadata": {},
   "outputs": [],
   "source": []
  },
  {
   "cell_type": "code",
   "execution_count": 21,
   "id": "c485b2b3-ddfa-4148-bd48-b6196752282a",
   "metadata": {},
   "outputs": [
    {
     "name": "stdout",
     "output_type": "stream",
     "text": [
      "✅ Image crops and metadata saved in: C:\\Remote Sensing\\Remote Sensing Projects\\Fiery Gizzard Trail\\Image Extraction\\Image Datasets\\Hemlocks from QGIS Annotations\\1\n",
      "✅ Metadata CSV saved at: C:\\Remote Sensing\\Remote Sensing Projects\\Fiery Gizzard Trail\\Image Extraction\\Image Datasets\\Hemlocks from QGIS Annotations\\crop_metadata.csv\n"
     ]
    }
   ],
   "source": [
    "from deepforest import model\n",
    "\n",
    "# Inputs\n",
    "annotations_csv = r\"C:\\Remote Sensing\\Remote Sensing Projects\\Fiery Gizzard Trail\\Image Extraction\\CSVs\\Hemlocks from QGIS Annotations\\Pixel Coordinates.csv\"\n",
    "\n",
    "# Define the output folder for cropped images\n",
    "output_dir = r\"C:\\Remote Sensing\\Remote Sensing Projects\\Fiery Gizzard Trail\\Image Extraction\\Image Datasets\\Hemlocks from QGIS Annotations\"\n",
    "\n",
    "# Label folder name (e.g., \"1\" for hemlocks)\n",
    "label_folder = \"1\"\n",
    "\n",
    "# Final output directory (inside '1')\n",
    "final_output_dir = os.path.join(output_dir, label_folder)\n",
    "os.makedirs(final_output_dir, exist_ok=True)\n",
    "\n",
    "# Load dataset with pixel coordinates\n",
    "df = pd.read_csv(annotations_csv)\n",
    "\n",
    "# Ensure required columns exist\n",
    "required_cols = [\"xmin\", \"ymin\", \"xmax\", \"ymax\"]\n",
    "if not all(col in df.columns for col in required_cols):\n",
    "    raise ValueError(\"CSV is missing required columns\")\n",
    "\n",
    "# Convert to list format for DeepForest\n",
    "boxes = df[['xmin', 'ymin', 'xmax', 'ymax']].values.tolist()\n",
    "\n",
    "# Labels: hard-coded label \"1\" because these are all hemlocks\n",
    "source_name = \"QGIS\"\n",
    "fixed_label = \"1\"  \n",
    "\n",
    "# Extract the filename from raster_path\n",
    "raster_filename = os.path.basename(raster_path)\n",
    "raster_directory = os.path.dirname(raster_path)\n",
    "\n",
    "# Ensure `images` is a list containing just the raster filename\n",
    "images = [raster_filename] * len(boxes)\n",
    "\n",
    "# Initialize CropModel\n",
    "crop_model = model.CropModel(num_classes=2)\n",
    "\n",
    "# Open raster manually\n",
    "with rasterio.open(raster_path) as src:\n",
    "    # Collect metadata\n",
    "    metadata = []\n",
    "\n",
    "    for idx, box in enumerate(boxes):\n",
    "        xmin, ymin, xmax, ymax = map(int, box)\n",
    "\n",
    "        try:\n",
    "            # Crop\n",
    "            window = src.read(window=((ymin, ymax), (xmin, xmax)))  # [bands, rows, cols]\n",
    "            if window.shape[0] < 3:\n",
    "                print(f\"⚠️ Skipping {idx}: not enough bands.\")\n",
    "                continue\n",
    "\n",
    "            window = window.transpose(1, 2, 0)  # [rows, cols, bands]\n",
    "            window = (window.clip(0, 255)).astype('uint8')\n",
    "\n",
    "            # Create a smart filename\n",
    "            filename = f\"crop_{source_name}_{idx:04d}_{fixed_label}.png\"\n",
    "            out_path = os.path.join(final_output_dir, filename)\n",
    "\n",
    "            # Save crop\n",
    "            im = Image.fromarray(window)\n",
    "            im.save(out_path)\n",
    "\n",
    "            # Save metadata\n",
    "            metadata.append({\n",
    "                \"filename\": filename, \n",
    "                \"xmin_px\": xmin,\n",
    "                \"ymin_px\": ymin,\n",
    "                \"xmax_px\": xmax,\n",
    "                \"ymax_px\": ymax,\n",
    "                \"label\": fixed_label,\n",
    "                \"source\": source_name\n",
    "            })\n",
    "\n",
    "        except Exception as e:\n",
    "            print(f\"❌ Crop failed at {idx}: {e}\")\n",
    "\n",
    "# Save metadata to CSV\n",
    "metadata_df = pd.DataFrame(metadata)\n",
    "metadata_csv_path = os.path.join(output_dir, \"crop_metadata.csv\")\n",
    "metadata_df.to_csv(metadata_csv_path, index=False)\n",
    "\n",
    "print(f\"✅ Image crops and metadata saved in: {final_output_dir}\")\n",
    "print(f\"✅ Metadata CSV saved at: {metadata_csv_path}\")\n"
   ]
  },
  {
   "cell_type": "code",
   "execution_count": null,
   "id": "5f2b75b3-6597-4839-b77d-4d9031f4ff81",
   "metadata": {},
   "outputs": [],
   "source": [
    "#Filter out detections from DeepForest that are smaller than your target class. \n",
    "#DeepForest may produce predictions that are smaller than the target itself. \n",
    "#e.g. the model may draw boundin boxes around brachnes instead of the entire cannop. This can produce excesive amounts of data.\n",
    "#use the code below to filter each image dataset based on minimum pixel size. Sort your target dataset (label = 1) by size. \n",
    "#Starting with the smallest images, work your way up unti you begin to see full canopy detections. calculate pixel size and use it as a threshold to filter incomplete detections\n",
    "#Note training datasets (1 and 0) must be balanced (similar in size) for the classification model to train well. \n"
   ]
  },
  {
   "cell_type": "code",
   "execution_count": 11,
   "id": "204f137e-9de0-42a7-81d3-db5cc240e956",
   "metadata": {},
   "outputs": [
    {
     "name": "stdout",
     "output_type": "stream",
     "text": [
      "✅ Done. 0 images were deleted for being under 20000 pixels.\n"
     ]
    }
   ],
   "source": [
    "import os\n",
    "from PIL import Image\n",
    "\n",
    "folder_path = r\"C:\\Remote Sensing\\Remote Sensing Projects\\Fiery Gizzard Trail\\Image Extraction\\Image Datasets\\Hemlocks from QGIS Annotations\"\n",
    "min_pixels = 20000\n",
    "deleted_count = 0\n",
    "\n",
    "#loop through images\n",
    "for filename in os.listdir(folder_path):\n",
    "    if filename.lower().endswith(\".png\"):\n",
    "        file_path = os.path.join(folder_path, filename)\n",
    "        try:\n",
    "            with Image.open(file_path) as img:\n",
    "                if img.width * img.height < min_pixels:\n",
    "                    img.close()  # Ensure file is fully released\n",
    "                    os.remove(file_path)\n",
    "                    deleted_count += 1\n",
    "        except:\n",
    "            pass  # Skip problematic files silently\n",
    "\n",
    "print(f\"✅ Done. {deleted_count} images were deleted for being under {min_pixels} pixels.\")"
   ]
  },
  {
   "cell_type": "code",
   "execution_count": 12,
   "id": "283cc234-c649-4a2b-ae65-86b67afd251b",
   "metadata": {},
   "outputs": [
    {
     "name": "stdout",
     "output_type": "stream",
     "text": [
      "0\n"
     ]
    }
   ],
   "source": [
    "remaining_files = [f for f in os.listdir(folder_path) if f.lower().endswith(\".png\")]\n",
    "print(len(remaining_files))"
   ]
  },
  {
   "cell_type": "code",
   "execution_count": null,
   "id": "ea0ed031-65a5-4e33-a9ef-7f609f2dd92d",
   "metadata": {},
   "outputs": [],
   "source": []
  }
 ],
 "metadata": {
  "kernelspec": {
   "display_name": "Python 3 (ipykernel)",
   "language": "python",
   "name": "python3"
  },
  "language_info": {
   "codemirror_mode": {
    "name": "ipython",
    "version": 3
   },
   "file_extension": ".py",
   "mimetype": "text/x-python",
   "name": "python",
   "nbconvert_exporter": "python",
   "pygments_lexer": "ipython3",
   "version": "3.12.4"
  }
 },
 "nbformat": 4,
 "nbformat_minor": 5
}
